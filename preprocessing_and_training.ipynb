{
 "cells": [
  {
   "cell_type": "code",
   "execution_count": 19,
   "id": "0e99ec24",
   "metadata": {},
   "outputs": [
    {
     "data": {
      "text/html": [
       "<div>\n",
       "<style scoped>\n",
       "    .dataframe tbody tr th:only-of-type {\n",
       "        vertical-align: middle;\n",
       "    }\n",
       "\n",
       "    .dataframe tbody tr th {\n",
       "        vertical-align: top;\n",
       "    }\n",
       "\n",
       "    .dataframe thead th {\n",
       "        text-align: right;\n",
       "    }\n",
       "</style>\n",
       "<table border=\"1\" class=\"dataframe\">\n",
       "  <thead>\n",
       "    <tr style=\"text-align: right;\">\n",
       "      <th></th>\n",
       "      <th>age</th>\n",
       "      <th>sex</th>\n",
       "      <th>bmi</th>\n",
       "      <th>children</th>\n",
       "      <th>smoker</th>\n",
       "      <th>region</th>\n",
       "      <th>charges</th>\n",
       "      <th>log_charges</th>\n",
       "    </tr>\n",
       "  </thead>\n",
       "  <tbody>\n",
       "    <tr>\n",
       "      <th>0</th>\n",
       "      <td>19</td>\n",
       "      <td>female</td>\n",
       "      <td>27.900</td>\n",
       "      <td>0</td>\n",
       "      <td>yes</td>\n",
       "      <td>southwest</td>\n",
       "      <td>16884.92400</td>\n",
       "      <td>9.734236</td>\n",
       "    </tr>\n",
       "    <tr>\n",
       "      <th>1</th>\n",
       "      <td>18</td>\n",
       "      <td>male</td>\n",
       "      <td>33.770</td>\n",
       "      <td>1</td>\n",
       "      <td>no</td>\n",
       "      <td>southeast</td>\n",
       "      <td>1725.55230</td>\n",
       "      <td>7.453882</td>\n",
       "    </tr>\n",
       "    <tr>\n",
       "      <th>2</th>\n",
       "      <td>28</td>\n",
       "      <td>male</td>\n",
       "      <td>33.000</td>\n",
       "      <td>3</td>\n",
       "      <td>no</td>\n",
       "      <td>southeast</td>\n",
       "      <td>4449.46200</td>\n",
       "      <td>8.400763</td>\n",
       "    </tr>\n",
       "    <tr>\n",
       "      <th>3</th>\n",
       "      <td>33</td>\n",
       "      <td>male</td>\n",
       "      <td>22.705</td>\n",
       "      <td>0</td>\n",
       "      <td>no</td>\n",
       "      <td>northwest</td>\n",
       "      <td>21984.47061</td>\n",
       "      <td>9.998137</td>\n",
       "    </tr>\n",
       "    <tr>\n",
       "      <th>4</th>\n",
       "      <td>32</td>\n",
       "      <td>male</td>\n",
       "      <td>28.880</td>\n",
       "      <td>0</td>\n",
       "      <td>no</td>\n",
       "      <td>northwest</td>\n",
       "      <td>3866.85520</td>\n",
       "      <td>8.260455</td>\n",
       "    </tr>\n",
       "  </tbody>\n",
       "</table>\n",
       "</div>"
      ],
      "text/plain": [
       "   age     sex     bmi  children smoker     region      charges  log_charges\n",
       "0   19  female  27.900         0    yes  southwest  16884.92400     9.734236\n",
       "1   18    male  33.770         1     no  southeast   1725.55230     7.453882\n",
       "2   28    male  33.000         3     no  southeast   4449.46200     8.400763\n",
       "3   33    male  22.705         0     no  northwest  21984.47061     9.998137\n",
       "4   32    male  28.880         0     no  northwest   3866.85520     8.260455"
      ]
     },
     "execution_count": 19,
     "metadata": {},
     "output_type": "execute_result"
    }
   ],
   "source": [
    "import pandas as pd\n",
    "import numpy as np\n",
    "\n",
    "df = pd.read_csv('data/eda.csv')\n",
    "df.head()"
   ]
  },
  {
   "cell_type": "code",
   "execution_count": 4,
   "id": "62773589",
   "metadata": {},
   "outputs": [
    {
     "data": {
      "text/plain": [
       "(1337, 8)"
      ]
     },
     "execution_count": 4,
     "metadata": {},
     "output_type": "execute_result"
    }
   ],
   "source": [
    "df.shape"
   ]
  },
  {
   "cell_type": "markdown",
   "id": "ea27a735",
   "metadata": {},
   "source": [
    "# Преобразование категориальных переменных в численные"
   ]
  },
  {
   "cell_type": "code",
   "execution_count": 5,
   "id": "d8c7723d",
   "metadata": {},
   "outputs": [],
   "source": [
    "y_log = df['log_charges']\n",
    "y = df['charges']\n",
    "X = df.drop(columns=['charges', 'log_charges'])"
   ]
  },
  {
   "cell_type": "code",
   "execution_count": 7,
   "id": "5a902fd6",
   "metadata": {},
   "outputs": [],
   "source": [
    "X = pd.get_dummies(X,columns=['sex','smoker','region'] ,drop_first=True)"
   ]
  },
  {
   "cell_type": "code",
   "execution_count": 8,
   "id": "ef4f2ffc",
   "metadata": {},
   "outputs": [
    {
     "data": {
      "text/html": [
       "<div>\n",
       "<style scoped>\n",
       "    .dataframe tbody tr th:only-of-type {\n",
       "        vertical-align: middle;\n",
       "    }\n",
       "\n",
       "    .dataframe tbody tr th {\n",
       "        vertical-align: top;\n",
       "    }\n",
       "\n",
       "    .dataframe thead th {\n",
       "        text-align: right;\n",
       "    }\n",
       "</style>\n",
       "<table border=\"1\" class=\"dataframe\">\n",
       "  <thead>\n",
       "    <tr style=\"text-align: right;\">\n",
       "      <th></th>\n",
       "      <th>age</th>\n",
       "      <th>bmi</th>\n",
       "      <th>children</th>\n",
       "      <th>sex_male</th>\n",
       "      <th>smoker_yes</th>\n",
       "      <th>region_northwest</th>\n",
       "      <th>region_southeast</th>\n",
       "      <th>region_southwest</th>\n",
       "    </tr>\n",
       "  </thead>\n",
       "  <tbody>\n",
       "    <tr>\n",
       "      <th>0</th>\n",
       "      <td>19</td>\n",
       "      <td>27.900</td>\n",
       "      <td>0</td>\n",
       "      <td>False</td>\n",
       "      <td>True</td>\n",
       "      <td>False</td>\n",
       "      <td>False</td>\n",
       "      <td>True</td>\n",
       "    </tr>\n",
       "    <tr>\n",
       "      <th>1</th>\n",
       "      <td>18</td>\n",
       "      <td>33.770</td>\n",
       "      <td>1</td>\n",
       "      <td>True</td>\n",
       "      <td>False</td>\n",
       "      <td>False</td>\n",
       "      <td>True</td>\n",
       "      <td>False</td>\n",
       "    </tr>\n",
       "    <tr>\n",
       "      <th>2</th>\n",
       "      <td>28</td>\n",
       "      <td>33.000</td>\n",
       "      <td>3</td>\n",
       "      <td>True</td>\n",
       "      <td>False</td>\n",
       "      <td>False</td>\n",
       "      <td>True</td>\n",
       "      <td>False</td>\n",
       "    </tr>\n",
       "    <tr>\n",
       "      <th>3</th>\n",
       "      <td>33</td>\n",
       "      <td>22.705</td>\n",
       "      <td>0</td>\n",
       "      <td>True</td>\n",
       "      <td>False</td>\n",
       "      <td>True</td>\n",
       "      <td>False</td>\n",
       "      <td>False</td>\n",
       "    </tr>\n",
       "    <tr>\n",
       "      <th>4</th>\n",
       "      <td>32</td>\n",
       "      <td>28.880</td>\n",
       "      <td>0</td>\n",
       "      <td>True</td>\n",
       "      <td>False</td>\n",
       "      <td>True</td>\n",
       "      <td>False</td>\n",
       "      <td>False</td>\n",
       "    </tr>\n",
       "  </tbody>\n",
       "</table>\n",
       "</div>"
      ],
      "text/plain": [
       "   age     bmi  children  sex_male  smoker_yes  region_northwest  \\\n",
       "0   19  27.900         0     False        True             False   \n",
       "1   18  33.770         1      True       False             False   \n",
       "2   28  33.000         3      True       False             False   \n",
       "3   33  22.705         0      True       False              True   \n",
       "4   32  28.880         0      True       False              True   \n",
       "\n",
       "   region_southeast  region_southwest  \n",
       "0             False              True  \n",
       "1              True             False  \n",
       "2              True             False  \n",
       "3             False             False  \n",
       "4             False             False  "
      ]
     },
     "execution_count": 8,
     "metadata": {},
     "output_type": "execute_result"
    }
   ],
   "source": [
    "X.head()"
   ]
  },
  {
   "cell_type": "markdown",
   "id": "d2d23927",
   "metadata": {},
   "source": [
    "Создадим несколько признаков:  \n",
    "1. возраст * фактор курения. Зачем? Показывает, что эффект возраста для курящих особенный\n",
    "2. имт * фактор курения. Зачем? Та же логика."
   ]
  },
  {
   "cell_type": "code",
   "execution_count": 10,
   "id": "1f992c88",
   "metadata": {},
   "outputs": [],
   "source": [
    "X['age_smoker'] = X['age'] * X['smoker_yes']\n",
    "X['bmi_smoker'] = X['bmi'] * X['smoker_yes']"
   ]
  },
  {
   "cell_type": "code",
   "execution_count": 11,
   "id": "7bebf0e8",
   "metadata": {},
   "outputs": [
    {
     "data": {
      "text/html": [
       "<div>\n",
       "<style scoped>\n",
       "    .dataframe tbody tr th:only-of-type {\n",
       "        vertical-align: middle;\n",
       "    }\n",
       "\n",
       "    .dataframe tbody tr th {\n",
       "        vertical-align: top;\n",
       "    }\n",
       "\n",
       "    .dataframe thead th {\n",
       "        text-align: right;\n",
       "    }\n",
       "</style>\n",
       "<table border=\"1\" class=\"dataframe\">\n",
       "  <thead>\n",
       "    <tr style=\"text-align: right;\">\n",
       "      <th></th>\n",
       "      <th>age</th>\n",
       "      <th>bmi</th>\n",
       "      <th>children</th>\n",
       "      <th>sex_male</th>\n",
       "      <th>smoker_yes</th>\n",
       "      <th>region_northwest</th>\n",
       "      <th>region_southeast</th>\n",
       "      <th>region_southwest</th>\n",
       "      <th>age_smoker</th>\n",
       "      <th>bmi_smoker</th>\n",
       "    </tr>\n",
       "  </thead>\n",
       "  <tbody>\n",
       "    <tr>\n",
       "      <th>0</th>\n",
       "      <td>19</td>\n",
       "      <td>27.900</td>\n",
       "      <td>0</td>\n",
       "      <td>False</td>\n",
       "      <td>True</td>\n",
       "      <td>False</td>\n",
       "      <td>False</td>\n",
       "      <td>True</td>\n",
       "      <td>19</td>\n",
       "      <td>27.9</td>\n",
       "    </tr>\n",
       "    <tr>\n",
       "      <th>1</th>\n",
       "      <td>18</td>\n",
       "      <td>33.770</td>\n",
       "      <td>1</td>\n",
       "      <td>True</td>\n",
       "      <td>False</td>\n",
       "      <td>False</td>\n",
       "      <td>True</td>\n",
       "      <td>False</td>\n",
       "      <td>0</td>\n",
       "      <td>0.0</td>\n",
       "    </tr>\n",
       "    <tr>\n",
       "      <th>2</th>\n",
       "      <td>28</td>\n",
       "      <td>33.000</td>\n",
       "      <td>3</td>\n",
       "      <td>True</td>\n",
       "      <td>False</td>\n",
       "      <td>False</td>\n",
       "      <td>True</td>\n",
       "      <td>False</td>\n",
       "      <td>0</td>\n",
       "      <td>0.0</td>\n",
       "    </tr>\n",
       "    <tr>\n",
       "      <th>3</th>\n",
       "      <td>33</td>\n",
       "      <td>22.705</td>\n",
       "      <td>0</td>\n",
       "      <td>True</td>\n",
       "      <td>False</td>\n",
       "      <td>True</td>\n",
       "      <td>False</td>\n",
       "      <td>False</td>\n",
       "      <td>0</td>\n",
       "      <td>0.0</td>\n",
       "    </tr>\n",
       "    <tr>\n",
       "      <th>4</th>\n",
       "      <td>32</td>\n",
       "      <td>28.880</td>\n",
       "      <td>0</td>\n",
       "      <td>True</td>\n",
       "      <td>False</td>\n",
       "      <td>True</td>\n",
       "      <td>False</td>\n",
       "      <td>False</td>\n",
       "      <td>0</td>\n",
       "      <td>0.0</td>\n",
       "    </tr>\n",
       "  </tbody>\n",
       "</table>\n",
       "</div>"
      ],
      "text/plain": [
       "   age     bmi  children  sex_male  smoker_yes  region_northwest  \\\n",
       "0   19  27.900         0     False        True             False   \n",
       "1   18  33.770         1      True       False             False   \n",
       "2   28  33.000         3      True       False             False   \n",
       "3   33  22.705         0      True       False              True   \n",
       "4   32  28.880         0      True       False              True   \n",
       "\n",
       "   region_southeast  region_southwest  age_smoker  bmi_smoker  \n",
       "0             False              True          19        27.9  \n",
       "1              True             False           0         0.0  \n",
       "2              True             False           0         0.0  \n",
       "3             False             False           0         0.0  \n",
       "4             False             False           0         0.0  "
      ]
     },
     "execution_count": 11,
     "metadata": {},
     "output_type": "execute_result"
    }
   ],
   "source": [
    "X.head()"
   ]
  },
  {
   "cell_type": "code",
   "execution_count": 12,
   "id": "71b007ce",
   "metadata": {},
   "outputs": [],
   "source": [
    "from sklearn.model_selection import train_test_split\n",
    "from sklearn.preprocessing import StandardScaler\n",
    "X_train, X_test, y_train, y_test = train_test_split(X, y, test_size=0.2, random_state=42)\n",
    "scaler = StandardScaler()\n",
    "X_train_scaled = scaler.fit_transform(X_train)\n",
    "X_test_scaled = scaler.transform(X_test)"
   ]
  },
  {
   "cell_type": "code",
   "execution_count": 13,
   "id": "6d8dea2c",
   "metadata": {},
   "outputs": [],
   "source": [
    "from sklearn.linear_model import LinearRegression\n",
    "model = LinearRegression()\n",
    "\n",
    "model.fit(X_train_scaled, y_train)\n",
    "y_pred = model.predict(X_test_scaled)"
   ]
  },
  {
   "cell_type": "code",
   "execution_count": 15,
   "id": "00cc3d0b",
   "metadata": {},
   "outputs": [
    {
     "name": "stdout",
     "output_type": "stream",
     "text": [
      "Mean Squared Error: 20956065.61812869\n",
      "Root Mean Squared Error: 4577.779551062796\n",
      "R^2 Score: 0.8859571479859212\n"
     ]
    }
   ],
   "source": [
    "from sklearn.metrics import mean_squared_error, r2_score\n",
    "mse = mean_squared_error(y_test, y_pred)\n",
    "r2 = r2_score(y_test, y_pred)\n",
    "print(f'Mean Squared Error: {mse}')\n",
    "print(f'Root Mean Squared Error: {mse ** 0.5}')\n",
    "print(f'R^2 Score: {r2}')"
   ]
  },
  {
   "cell_type": "code",
   "execution_count": 16,
   "id": "3c1c860a",
   "metadata": {},
   "outputs": [],
   "source": [
    "X_train, X_test, y_log_train, y_log_test = train_test_split(X, y_log, test_size=0.2, random_state=42)\n",
    "scaler = StandardScaler()\n",
    "X_train_scaled = scaler.fit_transform(X_train)\n",
    "X_test_scaled = scaler.transform(X_test)"
   ]
  },
  {
   "cell_type": "code",
   "execution_count": 22,
   "id": "16df0d3d",
   "metadata": {},
   "outputs": [],
   "source": [
    "model = LinearRegression()\n",
    "model.fit(X_train_scaled, y_log_train)\n",
    "y_log_pred = model.predict(X_test_scaled)\n",
    "y_pred = np.expm1(y_log_pred)"
   ]
  },
  {
   "cell_type": "code",
   "execution_count": 23,
   "id": "f0769941",
   "metadata": {},
   "outputs": [
    {
     "name": "stdout",
     "output_type": "stream",
     "text": [
      "Mean Squared Error (log): 34323779.909373\n",
      "Root Mean Squared Error (log): 5858.65000741408\n",
      "R^2 Score (log): 0.813210083223724\n"
     ]
    }
   ],
   "source": [
    "mse_log = mean_squared_error(y_test, y_pred)\n",
    "r2_log = r2_score(y_test, y_pred)   \n",
    "print(f'Mean Squared Error (log): {mse_log}')\n",
    "print(f'Root Mean Squared Error (log): {mse_log ** 0.5}')\n",
    "print(f'R^2 Score (log): {r2_log}')"
   ]
  },
  {
   "cell_type": "code",
   "execution_count": 25,
   "id": "9df274d6",
   "metadata": {},
   "outputs": [
    {
     "name": "stdout",
     "output_type": "stream",
     "text": [
      "Random Forest Mean Squared Error (log): 19592921.376982354\n",
      "Random Forest Root Mean Squared Error (log): 4426.389203061831\n",
      "Random Forest R^2 Score (log): 0.8933753752333302\n"
     ]
    }
   ],
   "source": [
    "from sklearn.ensemble import RandomForestRegressor, GradientBoostingRegressor\n",
    "rf_model = RandomForestRegressor(n_estimators=100, random_state=42)\n",
    "rf_model.fit(X_train_scaled, y_log_train)\n",
    "y_rf_log_pred = rf_model.predict(X_test_scaled)\n",
    "y_rf_pred = np.expm1(y_rf_log_pred)\n",
    "mse_rf_log = mean_squared_error(y_test, y_rf_pred)\n",
    "r2_rf_log = r2_score(y_test, y_rf_pred)\n",
    "print(f'Random Forest Mean Squared Error (log): {mse_rf_log}')\n",
    "print(f'Random Forest Root Mean Squared Error (log): {mse_rf_log ** 0.5}')\n",
    "print(f'Random Forest R^2 Score (log): {r2_rf_log}')"
   ]
  },
  {
   "cell_type": "code",
   "execution_count": 26,
   "id": "4f7d23ae",
   "metadata": {},
   "outputs": [
    {
     "name": "stdout",
     "output_type": "stream",
     "text": [
      "Random Forest Mean Squared Error (log): 22497083.18693296\n",
      "Random Forest Root Mean Squared Error (log): 4743.109021194111\n",
      "Random Forest R^2 Score (log): 0.8775709345738859\n"
     ]
    }
   ],
   "source": [
    "rf_model = RandomForestRegressor(n_estimators=100, random_state=42)\n",
    "rf_model.fit(X_train_scaled, y_train)\n",
    "y_rf_pred = rf_model.predict(X_test_scaled)\n",
    "mse_rf = mean_squared_error(y_test, y_rf_pred)\n",
    "r2_rf = r2_score(y_test, y_rf_pred)\n",
    "print(f'Random Forest Mean Squared Error (log): {mse_rf}')\n",
    "print(f'Random Forest Root Mean Squared Error (log): {mse_rf** 0.5}')\n",
    "print(f'Random Forest R^2 Score (log): {r2_rf}')"
   ]
  },
  {
   "cell_type": "code",
   "execution_count": 27,
   "id": "dfd3cc4d",
   "metadata": {},
   "outputs": [
    {
     "name": "stdout",
     "output_type": "stream",
     "text": [
      "Gradient Boosting Mean Squared Error (log): 20172876.325011153\n",
      "Gradient Boosting Root Mean Squared Error (log): 4491.4225279983575\n",
      "Gradient Boosting R^2 Score (log): 0.890219261985829\n"
     ]
    }
   ],
   "source": [
    "gb_model = GradientBoostingRegressor(n_estimators=100, random_state=42)\n",
    "gb_model.fit(X_train_scaled, y_log_train)\n",
    "y_gb_log_pred = gb_model.predict(X_test_scaled)\n",
    "y_gb_pred = np.expm1(y_gb_log_pred)\n",
    "mse_gb_log = mean_squared_error(y_test, y_gb_pred)\n",
    "r2_gb_log = r2_score(y_test, y_gb_pred) \n",
    "print(f'Gradient Boosting Mean Squared Error (log): {mse_gb_log}')\n",
    "print(f'Gradient Boosting Root Mean Squared Error (log): {mse_gb_log ** 0.5}')\n",
    "print(f'Gradient Boosting R^2 Score (log): {r2_gb_log}')"
   ]
  },
  {
   "cell_type": "code",
   "execution_count": 28,
   "id": "d6f4fad8",
   "metadata": {},
   "outputs": [
    {
     "name": "stdout",
     "output_type": "stream",
     "text": [
      "Gradient Boosting Mean Squared Error: 17884991.220697723\n",
      "Gradient Boosting Root Mean Squared Error: 4229.065052786221\n",
      "Gradient Boosting R^2 Score: 0.9026699264917999\n"
     ]
    }
   ],
   "source": [
    "gb_model = GradientBoostingRegressor(n_estimators=100, random_state=42)\n",
    "gb_model.fit(X_train_scaled, y_train)\n",
    "y_gb_pred = gb_model.predict(X_test_scaled)\n",
    "mse_gb = mean_squared_error(y_test, y_gb_pred)  \n",
    "r2_gb = r2_score(y_test, y_gb_pred)\n",
    "print(f'Gradient Boosting Mean Squared Error: {mse_gb}')\n",
    "print(f'Gradient Boosting Root Mean Squared Error: {mse_gb ** 0.5}')\n",
    "print(f'Gradient Boosting R^2 Score: {r2_gb}')\n"
   ]
  },
  {
   "cell_type": "markdown",
   "id": "fd8999da",
   "metadata": {},
   "source": [
    "Видим, что наилучший результат показал градиентный бустинг на таргете без логарифмирования.  \n",
    "Теперь попробуем поиграться с гиперпараметрами как градиентного бустинга, так и случайного леса с помощью поиска по сетке."
   ]
  },
  {
   "cell_type": "code",
   "execution_count": 36,
   "id": "8eecfb5a",
   "metadata": {},
   "outputs": [
    {
     "name": "stdout",
     "output_type": "stream",
     "text": [
      "Fitting 3 folds for each of 81 candidates, totalling 243 fits\n",
      "Best parameters: {'max_depth': 5, 'min_samples_leaf': 4, 'min_samples_split': 10, 'n_estimators': 50}\n",
      "Best score: -22374138.73615871\n"
     ]
    }
   ],
   "source": [
    "from sklearn.model_selection import GridSearchCV\n",
    "gb_model = GradientBoostingRegressor(random_state=42)\n",
    "param_grid = {\n",
    "    'n_estimators': [50, 100, 200],\n",
    "    'max_depth': [None, 5, 10],\n",
    "    'min_samples_split': [2, 5, 10],\n",
    "    'min_samples_leaf': [1, 2, 4]\n",
    "}\n",
    "grid_search = GridSearchCV(estimator=gb_model, param_grid=param_grid, cv=3, scoring='neg_mean_squared_error', verbose=2, n_jobs=-1)\n",
    "grid_search.fit(X_train_scaled, y_train)\n",
    "best_params = grid_search.best_params_\n",
    "best_score = grid_search.best_score_\n",
    "print(f'Best parameters: {best_params}')\n",
    "print(f'Best score: {best_score}')\n"
   ]
  },
  {
   "cell_type": "code",
   "execution_count": 37,
   "id": "8ce1911a",
   "metadata": {},
   "outputs": [
    {
     "name": "stdout",
     "output_type": "stream",
     "text": [
      "Best Gradient Boosting Mean Squared Error: 18670620.361418225\n",
      "Best Gradient Boosting Root Mean Squared Error: 4320.951325971889\n",
      "Best Gradient Boosting R^2 Score: 0.8983945348478823\n"
     ]
    }
   ],
   "source": [
    "model = GradientBoostingRegressor(**best_params, random_state=42)\n",
    "model.fit(X_train_scaled, y_train)\n",
    "y_pred = model.predict(X_test_scaled)\n",
    "mse_best = mean_squared_error(y_test, y_pred)\n",
    "r2_best = r2_score(y_test, y_pred)  \n",
    "print(f'Best Gradient Boosting Mean Squared Error: {mse_best}')\n",
    "print(f'Best Gradient Boosting Root Mean Squared Error: {mse_best ** 0.5}')\n",
    "print(f'Best Gradient Boosting R^2 Score: {r2_best}')"
   ]
  },
  {
   "cell_type": "code",
   "execution_count": 38,
   "id": "9ff3d0b2",
   "metadata": {},
   "outputs": [
    {
     "name": "stdout",
     "output_type": "stream",
     "text": [
      "Fitting 3 folds for each of 81 candidates, totalling 243 fits\n",
      "Best parameters: {'max_depth': 5, 'min_samples_leaf': 4, 'min_samples_split': 2, 'n_estimators': 50}\n",
      "Best score: -0.1646563326406082\n"
     ]
    }
   ],
   "source": [
    "gb_model = GradientBoostingRegressor(random_state=42)\n",
    "param_grid = {\n",
    "    'n_estimators': [50, 100, 200], \n",
    "    'max_depth': [None, 5, 10],\n",
    "    'min_samples_split': [2, 5, 10],\n",
    "    'min_samples_leaf': [1, 2, 4]\n",
    "}\n",
    "grid_search = GridSearchCV(estimator=gb_model, param_grid=param_grid, cv=3, scoring='neg_mean_squared_error', verbose=2, n_jobs=-1)\n",
    "grid_search.fit(X_train_scaled, y_log_train)\n",
    "best_params = grid_search.best_params_\n",
    "best_score = grid_search.best_score_\n",
    "print(f'Best parameters: {best_params}')\n",
    "print(f'Best score: {best_score}')"
   ]
  },
  {
   "cell_type": "code",
   "execution_count": 39,
   "id": "cf76032f",
   "metadata": {},
   "outputs": [
    {
     "name": "stdout",
     "output_type": "stream",
     "text": [
      "Best Gradient Boosting Mean Squared Error: 18915820.69478462\n",
      "Best Gradient Boosting Root Mean Squared Error: 4349.232196007086\n",
      "Best Gradient Boosting R^2 Score: 0.8983945348478823\n"
     ]
    }
   ],
   "source": [
    "model = GradientBoostingRegressor(**best_params, random_state=42)\n",
    "model.fit(X_train_scaled, y_log_train)\n",
    "y_log_pred = model.predict(X_test_scaled)\n",
    "y_pred = np.expm1(y_log_pred)\n",
    "mse_best_log = mean_squared_error(y_test, y_pred)   \n",
    "print(f'Best Gradient Boosting Mean Squared Error: {mse_best_log}')\n",
    "print(f'Best Gradient Boosting Root Mean Squared Error: {mse_best_log ** 0.5}')\n",
    "print(f'Best Gradient Boosting R^2 Score: {r2_best}')"
   ]
  },
  {
   "cell_type": "code",
   "execution_count": 40,
   "id": "8fcdcad5",
   "metadata": {},
   "outputs": [
    {
     "name": "stdout",
     "output_type": "stream",
     "text": [
      "Fitting 3 folds for each of 81 candidates, totalling 243 fits\n",
      "Best parameters: {'max_depth': 5, 'min_samples_leaf': 4, 'min_samples_split': 10, 'n_estimators': 100}\n",
      "Best score: -0.1538279350939162\n"
     ]
    }
   ],
   "source": [
    "rf_model = RandomForestRegressor(random_state=42)\n",
    "param_grid = {\n",
    "    'n_estimators': [50, 100, 200], \n",
    "    'max_depth': [None, 5, 10],\n",
    "    'min_samples_split': [2, 5, 10],\n",
    "    'min_samples_leaf': [1, 2, 4]\n",
    "}\n",
    "grid_search = GridSearchCV(estimator=rf_model, param_grid=param_grid, cv=3, scoring='neg_mean_squared_error', verbose=2, n_jobs=-1)\n",
    "grid_search.fit(X_train_scaled, y_log_train)\n",
    "best_params = grid_search.best_params_\n",
    "best_score = grid_search.best_score_\n",
    "print(f'Best parameters: {best_params}')\n",
    "print(f'Best score: {best_score}')"
   ]
  },
  {
   "cell_type": "code",
   "execution_count": 41,
   "id": "22b2c44d",
   "metadata": {},
   "outputs": [
    {
     "name": "stdout",
     "output_type": "stream",
     "text": [
      "Best Random Forest Mean Squared Error: 17839589.129298076\n",
      "Best Random Forest Root Mean Squared Error: 4223.693777879509\n",
      "Best Random Forest R^2 Score: 0.9029170045495314\n"
     ]
    }
   ],
   "source": [
    "model = RandomForestRegressor(**best_params, random_state=42)\n",
    "model.fit(X_train_scaled, y_log_train)\n",
    "y_log_pred = model.predict(X_test_scaled)\n",
    "y_pred = np.expm1(y_log_pred)\n",
    "mse_best_log = mean_squared_error(y_test, y_pred)\n",
    "r2_best_log = r2_score(y_test, y_pred)\n",
    "print(f'Best Random Forest Mean Squared Error: {mse_best_log}')\n",
    "print(f'Best Random Forest Root Mean Squared Error: {mse_best_log ** 0.5}')\n",
    "print(f'Best Random Forest R^2 Score: {r2_best_log}')"
   ]
  },
  {
   "cell_type": "code",
   "execution_count": 43,
   "id": "cc13b721",
   "metadata": {},
   "outputs": [
    {
     "name": "stdout",
     "output_type": "stream",
     "text": [
      "Fitting 3 folds for each of 81 candidates, totalling 243 fits\n",
      "Best parameters: {'max_depth': 5, 'min_samples_leaf': 4, 'min_samples_split': 2, 'n_estimators': 100}\n",
      "Best score: -21243606.756487027\n"
     ]
    }
   ],
   "source": [
    "rf_model = RandomForestRegressor(random_state=42)\n",
    "param_grid = {\n",
    "    'n_estimators': [50, 100, 200], \n",
    "    'max_depth': [None, 5, 10],\n",
    "    'min_samples_split': [2, 5, 10],\n",
    "    'min_samples_leaf': [1, 2, 4]\n",
    "}\n",
    "grid_search = GridSearchCV(estimator=rf_model, param_grid=param_grid, cv=3, scoring='neg_mean_squared_error', verbose=2, n_jobs=-1)\n",
    "grid_search.fit(X_train_scaled, y_train)\n",
    "best_params = grid_search.best_params_\n",
    "best_score = grid_search.best_score_\n",
    "print(f'Best parameters: {best_params}')\n",
    "print(f'Best score: {best_score}')"
   ]
  },
  {
   "cell_type": "code",
   "execution_count": 44,
   "id": "7d1c6a5e",
   "metadata": {},
   "outputs": [
    {
     "name": "stdout",
     "output_type": "stream",
     "text": [
      "Best Random Forest Mean Squared Error: 18181623.41082447\n",
      "Best Random Forest Root Mean Squared Error: 4263.991488127582\n",
      "Best Random Forest R^2 Score: 0.901055654921092\n"
     ]
    }
   ],
   "source": [
    "model = RandomForestRegressor(**best_params, random_state=42)\n",
    "model.fit(X_train_scaled, y_train)\n",
    "y_pred = model.predict(X_test_scaled)\n",
    "mse_best_log = mean_squared_error(y_test, y_pred)\n",
    "r2_best_log = r2_score(y_test, y_pred)\n",
    "print(f'Best Random Forest Mean Squared Error: {mse_best_log}')\n",
    "print(f'Best Random Forest Root Mean Squared Error: {mse_best_log ** 0.5}')\n",
    "print(f'Best Random Forest R^2 Score: {r2_best_log}')"
   ]
  }
 ],
 "metadata": {
  "kernelspec": {
   "display_name": "venv",
   "language": "python",
   "name": "python3"
  },
  "language_info": {
   "codemirror_mode": {
    "name": "ipython",
    "version": 3
   },
   "file_extension": ".py",
   "mimetype": "text/x-python",
   "name": "python",
   "nbconvert_exporter": "python",
   "pygments_lexer": "ipython3",
   "version": "3.13.3"
  }
 },
 "nbformat": 4,
 "nbformat_minor": 5
}
