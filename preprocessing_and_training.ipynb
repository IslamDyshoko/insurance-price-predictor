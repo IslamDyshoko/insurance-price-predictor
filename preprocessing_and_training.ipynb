{
 "cells": [
  {
   "cell_type": "code",
   "execution_count": 45,
   "id": "0e99ec24",
   "metadata": {},
   "outputs": [
    {
     "data": {
      "text/html": [
       "<div>\n",
       "<style scoped>\n",
       "    .dataframe tbody tr th:only-of-type {\n",
       "        vertical-align: middle;\n",
       "    }\n",
       "\n",
       "    .dataframe tbody tr th {\n",
       "        vertical-align: top;\n",
       "    }\n",
       "\n",
       "    .dataframe thead th {\n",
       "        text-align: right;\n",
       "    }\n",
       "</style>\n",
       "<table border=\"1\" class=\"dataframe\">\n",
       "  <thead>\n",
       "    <tr style=\"text-align: right;\">\n",
       "      <th></th>\n",
       "      <th>age</th>\n",
       "      <th>sex</th>\n",
       "      <th>bmi</th>\n",
       "      <th>children</th>\n",
       "      <th>smoker</th>\n",
       "      <th>region</th>\n",
       "      <th>charges</th>\n",
       "      <th>log_charges</th>\n",
       "    </tr>\n",
       "  </thead>\n",
       "  <tbody>\n",
       "    <tr>\n",
       "      <th>0</th>\n",
       "      <td>19</td>\n",
       "      <td>female</td>\n",
       "      <td>27.900</td>\n",
       "      <td>0</td>\n",
       "      <td>yes</td>\n",
       "      <td>southwest</td>\n",
       "      <td>16884.92400</td>\n",
       "      <td>9.734236</td>\n",
       "    </tr>\n",
       "    <tr>\n",
       "      <th>1</th>\n",
       "      <td>18</td>\n",
       "      <td>male</td>\n",
       "      <td>33.770</td>\n",
       "      <td>1</td>\n",
       "      <td>no</td>\n",
       "      <td>southeast</td>\n",
       "      <td>1725.55230</td>\n",
       "      <td>7.453882</td>\n",
       "    </tr>\n",
       "    <tr>\n",
       "      <th>2</th>\n",
       "      <td>28</td>\n",
       "      <td>male</td>\n",
       "      <td>33.000</td>\n",
       "      <td>3</td>\n",
       "      <td>no</td>\n",
       "      <td>southeast</td>\n",
       "      <td>4449.46200</td>\n",
       "      <td>8.400763</td>\n",
       "    </tr>\n",
       "    <tr>\n",
       "      <th>3</th>\n",
       "      <td>33</td>\n",
       "      <td>male</td>\n",
       "      <td>22.705</td>\n",
       "      <td>0</td>\n",
       "      <td>no</td>\n",
       "      <td>northwest</td>\n",
       "      <td>21984.47061</td>\n",
       "      <td>9.998137</td>\n",
       "    </tr>\n",
       "    <tr>\n",
       "      <th>4</th>\n",
       "      <td>32</td>\n",
       "      <td>male</td>\n",
       "      <td>28.880</td>\n",
       "      <td>0</td>\n",
       "      <td>no</td>\n",
       "      <td>northwest</td>\n",
       "      <td>3866.85520</td>\n",
       "      <td>8.260455</td>\n",
       "    </tr>\n",
       "  </tbody>\n",
       "</table>\n",
       "</div>"
      ],
      "text/plain": [
       "   age     sex     bmi  children smoker     region      charges  log_charges\n",
       "0   19  female  27.900         0    yes  southwest  16884.92400     9.734236\n",
       "1   18    male  33.770         1     no  southeast   1725.55230     7.453882\n",
       "2   28    male  33.000         3     no  southeast   4449.46200     8.400763\n",
       "3   33    male  22.705         0     no  northwest  21984.47061     9.998137\n",
       "4   32    male  28.880         0     no  northwest   3866.85520     8.260455"
      ]
     },
     "execution_count": 45,
     "metadata": {},
     "output_type": "execute_result"
    }
   ],
   "source": [
    "import pandas as pd\n",
    "import numpy as np\n",
    "\n",
    "df = pd.read_csv('data/eda.csv')\n",
    "df.head()"
   ]
  },
  {
   "cell_type": "code",
   "execution_count": 4,
   "id": "62773589",
   "metadata": {},
   "outputs": [
    {
     "data": {
      "text/plain": [
       "(1337, 8)"
      ]
     },
     "execution_count": 4,
     "metadata": {},
     "output_type": "execute_result"
    }
   ],
   "source": [
    "df.shape"
   ]
  },
  {
   "cell_type": "markdown",
   "id": "ea27a735",
   "metadata": {},
   "source": [
    "# Преобразование категориальных переменных в численные"
   ]
  },
  {
   "cell_type": "code",
   "execution_count": 77,
   "id": "d8c7723d",
   "metadata": {},
   "outputs": [],
   "source": [
    "y = df['charges']\n",
    "X = df.drop(columns=['charges', 'log_charges'])"
   ]
  },
  {
   "cell_type": "code",
   "execution_count": 47,
   "id": "5a902fd6",
   "metadata": {},
   "outputs": [],
   "source": [
    "X = pd.get_dummies(X,columns=['sex','smoker','region'] ,drop_first=True)"
   ]
  },
  {
   "cell_type": "code",
   "execution_count": 78,
   "id": "ef4f2ffc",
   "metadata": {},
   "outputs": [
    {
     "data": {
      "text/html": [
       "<div>\n",
       "<style scoped>\n",
       "    .dataframe tbody tr th:only-of-type {\n",
       "        vertical-align: middle;\n",
       "    }\n",
       "\n",
       "    .dataframe tbody tr th {\n",
       "        vertical-align: top;\n",
       "    }\n",
       "\n",
       "    .dataframe thead th {\n",
       "        text-align: right;\n",
       "    }\n",
       "</style>\n",
       "<table border=\"1\" class=\"dataframe\">\n",
       "  <thead>\n",
       "    <tr style=\"text-align: right;\">\n",
       "      <th></th>\n",
       "      <th>age</th>\n",
       "      <th>sex</th>\n",
       "      <th>bmi</th>\n",
       "      <th>children</th>\n",
       "      <th>smoker</th>\n",
       "      <th>region</th>\n",
       "    </tr>\n",
       "  </thead>\n",
       "  <tbody>\n",
       "    <tr>\n",
       "      <th>0</th>\n",
       "      <td>19</td>\n",
       "      <td>female</td>\n",
       "      <td>27.900</td>\n",
       "      <td>0</td>\n",
       "      <td>yes</td>\n",
       "      <td>southwest</td>\n",
       "    </tr>\n",
       "    <tr>\n",
       "      <th>1</th>\n",
       "      <td>18</td>\n",
       "      <td>male</td>\n",
       "      <td>33.770</td>\n",
       "      <td>1</td>\n",
       "      <td>no</td>\n",
       "      <td>southeast</td>\n",
       "    </tr>\n",
       "    <tr>\n",
       "      <th>2</th>\n",
       "      <td>28</td>\n",
       "      <td>male</td>\n",
       "      <td>33.000</td>\n",
       "      <td>3</td>\n",
       "      <td>no</td>\n",
       "      <td>southeast</td>\n",
       "    </tr>\n",
       "    <tr>\n",
       "      <th>3</th>\n",
       "      <td>33</td>\n",
       "      <td>male</td>\n",
       "      <td>22.705</td>\n",
       "      <td>0</td>\n",
       "      <td>no</td>\n",
       "      <td>northwest</td>\n",
       "    </tr>\n",
       "    <tr>\n",
       "      <th>4</th>\n",
       "      <td>32</td>\n",
       "      <td>male</td>\n",
       "      <td>28.880</td>\n",
       "      <td>0</td>\n",
       "      <td>no</td>\n",
       "      <td>northwest</td>\n",
       "    </tr>\n",
       "  </tbody>\n",
       "</table>\n",
       "</div>"
      ],
      "text/plain": [
       "   age     sex     bmi  children smoker     region\n",
       "0   19  female  27.900         0    yes  southwest\n",
       "1   18    male  33.770         1     no  southeast\n",
       "2   28    male  33.000         3     no  southeast\n",
       "3   33    male  22.705         0     no  northwest\n",
       "4   32    male  28.880         0     no  northwest"
      ]
     },
     "execution_count": 78,
     "metadata": {},
     "output_type": "execute_result"
    }
   ],
   "source": [
    "X.head()"
   ]
  },
  {
   "cell_type": "markdown",
   "id": "d2d23927",
   "metadata": {},
   "source": [
    "Создадим несколько признаков:  \n",
    "1. возраст * фактор курения. Зачем? Показывает, что эффект возраста для курящих особенный\n",
    "2. имт * фактор курения. Зачем? Та же логика."
   ]
  },
  {
   "cell_type": "code",
   "execution_count": 49,
   "id": "1f992c88",
   "metadata": {},
   "outputs": [],
   "source": [
    "X['age_smoker'] = X['age'] * X['smoker_yes']\n",
    "X['bmi_smoker'] = X['bmi'] * X['smoker_yes']"
   ]
  },
  {
   "cell_type": "code",
   "execution_count": 50,
   "id": "7bebf0e8",
   "metadata": {},
   "outputs": [
    {
     "data": {
      "text/html": [
       "<div>\n",
       "<style scoped>\n",
       "    .dataframe tbody tr th:only-of-type {\n",
       "        vertical-align: middle;\n",
       "    }\n",
       "\n",
       "    .dataframe tbody tr th {\n",
       "        vertical-align: top;\n",
       "    }\n",
       "\n",
       "    .dataframe thead th {\n",
       "        text-align: right;\n",
       "    }\n",
       "</style>\n",
       "<table border=\"1\" class=\"dataframe\">\n",
       "  <thead>\n",
       "    <tr style=\"text-align: right;\">\n",
       "      <th></th>\n",
       "      <th>age</th>\n",
       "      <th>bmi</th>\n",
       "      <th>children</th>\n",
       "      <th>sex_male</th>\n",
       "      <th>smoker_yes</th>\n",
       "      <th>region_northwest</th>\n",
       "      <th>region_southeast</th>\n",
       "      <th>region_southwest</th>\n",
       "      <th>age_smoker</th>\n",
       "      <th>bmi_smoker</th>\n",
       "    </tr>\n",
       "  </thead>\n",
       "  <tbody>\n",
       "    <tr>\n",
       "      <th>0</th>\n",
       "      <td>19</td>\n",
       "      <td>27.900</td>\n",
       "      <td>0</td>\n",
       "      <td>False</td>\n",
       "      <td>True</td>\n",
       "      <td>False</td>\n",
       "      <td>False</td>\n",
       "      <td>True</td>\n",
       "      <td>19</td>\n",
       "      <td>27.9</td>\n",
       "    </tr>\n",
       "    <tr>\n",
       "      <th>1</th>\n",
       "      <td>18</td>\n",
       "      <td>33.770</td>\n",
       "      <td>1</td>\n",
       "      <td>True</td>\n",
       "      <td>False</td>\n",
       "      <td>False</td>\n",
       "      <td>True</td>\n",
       "      <td>False</td>\n",
       "      <td>0</td>\n",
       "      <td>0.0</td>\n",
       "    </tr>\n",
       "    <tr>\n",
       "      <th>2</th>\n",
       "      <td>28</td>\n",
       "      <td>33.000</td>\n",
       "      <td>3</td>\n",
       "      <td>True</td>\n",
       "      <td>False</td>\n",
       "      <td>False</td>\n",
       "      <td>True</td>\n",
       "      <td>False</td>\n",
       "      <td>0</td>\n",
       "      <td>0.0</td>\n",
       "    </tr>\n",
       "    <tr>\n",
       "      <th>3</th>\n",
       "      <td>33</td>\n",
       "      <td>22.705</td>\n",
       "      <td>0</td>\n",
       "      <td>True</td>\n",
       "      <td>False</td>\n",
       "      <td>True</td>\n",
       "      <td>False</td>\n",
       "      <td>False</td>\n",
       "      <td>0</td>\n",
       "      <td>0.0</td>\n",
       "    </tr>\n",
       "    <tr>\n",
       "      <th>4</th>\n",
       "      <td>32</td>\n",
       "      <td>28.880</td>\n",
       "      <td>0</td>\n",
       "      <td>True</td>\n",
       "      <td>False</td>\n",
       "      <td>True</td>\n",
       "      <td>False</td>\n",
       "      <td>False</td>\n",
       "      <td>0</td>\n",
       "      <td>0.0</td>\n",
       "    </tr>\n",
       "  </tbody>\n",
       "</table>\n",
       "</div>"
      ],
      "text/plain": [
       "   age     bmi  children  sex_male  smoker_yes  region_northwest  \\\n",
       "0   19  27.900         0     False        True             False   \n",
       "1   18  33.770         1      True       False             False   \n",
       "2   28  33.000         3      True       False             False   \n",
       "3   33  22.705         0      True       False              True   \n",
       "4   32  28.880         0      True       False              True   \n",
       "\n",
       "   region_southeast  region_southwest  age_smoker  bmi_smoker  \n",
       "0             False              True          19        27.9  \n",
       "1              True             False           0         0.0  \n",
       "2              True             False           0         0.0  \n",
       "3             False             False           0         0.0  \n",
       "4             False             False           0         0.0  "
      ]
     },
     "execution_count": 50,
     "metadata": {},
     "output_type": "execute_result"
    }
   ],
   "source": [
    "X.head()"
   ]
  },
  {
   "cell_type": "code",
   "execution_count": 79,
   "id": "71b007ce",
   "metadata": {},
   "outputs": [
    {
     "ename": "ValueError",
     "evalue": "could not convert string to float: 'male'",
     "output_type": "error",
     "traceback": [
      "\u001b[31m---------------------------------------------------------------------------\u001b[39m",
      "\u001b[31mValueError\u001b[39m                                Traceback (most recent call last)",
      "\u001b[32m~\\AppData\\Local\\Temp\\ipykernel_12112\\1957917811.py\u001b[39m in \u001b[36m?\u001b[39m\u001b[34m()\u001b[39m\n\u001b[32m      1\u001b[39m \u001b[38;5;28;01mfrom\u001b[39;00m sklearn.model_selection \u001b[38;5;28;01mimport\u001b[39;00m train_test_split\n\u001b[32m      2\u001b[39m \u001b[38;5;28;01mfrom\u001b[39;00m sklearn.preprocessing \u001b[38;5;28;01mimport\u001b[39;00m StandardScaler\n\u001b[32m      3\u001b[39m X_train, X_test, y_train, y_test = train_test_split(X, y, test_size=\u001b[32m0.2\u001b[39m, random_state=\u001b[32m42\u001b[39m)\n\u001b[32m      4\u001b[39m scaler = StandardScaler()\n\u001b[32m----> \u001b[39m\u001b[32m5\u001b[39m X_train_scaled = scaler.fit_transform(X_train)\n\u001b[32m      6\u001b[39m X_test_scaled = scaler.transform(X_test)\n",
      "\u001b[32mc:\\Users\\Admin\\insurance-price-predictor\\venv\\Lib\\site-packages\\sklearn\\utils\\_set_output.py\u001b[39m in \u001b[36m?\u001b[39m\u001b[34m(self, X, *args, **kwargs)\u001b[39m\n\u001b[32m    314\u001b[39m     @wraps(f)\n\u001b[32m    315\u001b[39m     \u001b[38;5;28;01mdef\u001b[39;00m wrapped(self, X, *args, **kwargs):\n\u001b[32m--> \u001b[39m\u001b[32m316\u001b[39m         data_to_wrap = f(self, X, *args, **kwargs)\n\u001b[32m    317\u001b[39m         \u001b[38;5;28;01mif\u001b[39;00m isinstance(data_to_wrap, tuple):\n\u001b[32m    318\u001b[39m             \u001b[38;5;66;03m# only wrap the first output for cross decomposition\u001b[39;00m\n\u001b[32m    319\u001b[39m             return_tuple = (\n",
      "\u001b[32mc:\\Users\\Admin\\insurance-price-predictor\\venv\\Lib\\site-packages\\sklearn\\base.py\u001b[39m in \u001b[36m?\u001b[39m\u001b[34m(self, X, y, **fit_params)\u001b[39m\n\u001b[32m    890\u001b[39m                 )\n\u001b[32m    891\u001b[39m \n\u001b[32m    892\u001b[39m         \u001b[38;5;28;01mif\u001b[39;00m y \u001b[38;5;28;01mis\u001b[39;00m \u001b[38;5;28;01mNone\u001b[39;00m:\n\u001b[32m    893\u001b[39m             \u001b[38;5;66;03m# fit method of arity 1 (unsupervised transformation)\u001b[39;00m\n\u001b[32m--> \u001b[39m\u001b[32m894\u001b[39m             \u001b[38;5;28;01mreturn\u001b[39;00m self.fit(X, **fit_params).transform(X)\n\u001b[32m    895\u001b[39m         \u001b[38;5;28;01melse\u001b[39;00m:\n\u001b[32m    896\u001b[39m             \u001b[38;5;66;03m# fit method of arity 2 (supervised transformation)\u001b[39;00m\n\u001b[32m    897\u001b[39m             \u001b[38;5;28;01mreturn\u001b[39;00m self.fit(X, y, **fit_params).transform(X)\n",
      "\u001b[32mc:\\Users\\Admin\\insurance-price-predictor\\venv\\Lib\\site-packages\\sklearn\\preprocessing\\_data.py\u001b[39m in \u001b[36m?\u001b[39m\u001b[34m(self, X, y, sample_weight)\u001b[39m\n\u001b[32m    903\u001b[39m             Fitted scaler.\n\u001b[32m    904\u001b[39m         \"\"\"\n\u001b[32m    905\u001b[39m         \u001b[38;5;66;03m# Reset internal state before fitting\u001b[39;00m\n\u001b[32m    906\u001b[39m         self._reset()\n\u001b[32m--> \u001b[39m\u001b[32m907\u001b[39m         \u001b[38;5;28;01mreturn\u001b[39;00m self.partial_fit(X, y, sample_weight)\n",
      "\u001b[32mc:\\Users\\Admin\\insurance-price-predictor\\venv\\Lib\\site-packages\\sklearn\\base.py\u001b[39m in \u001b[36m?\u001b[39m\u001b[34m(estimator, *args, **kwargs)\u001b[39m\n\u001b[32m   1361\u001b[39m                 skip_parameter_validation=(\n\u001b[32m   1362\u001b[39m                     prefer_skip_nested_validation \u001b[38;5;28;01mor\u001b[39;00m global_skip_validation\n\u001b[32m   1363\u001b[39m                 )\n\u001b[32m   1364\u001b[39m             ):\n\u001b[32m-> \u001b[39m\u001b[32m1365\u001b[39m                 \u001b[38;5;28;01mreturn\u001b[39;00m fit_method(estimator, *args, **kwargs)\n",
      "\u001b[32mc:\\Users\\Admin\\insurance-price-predictor\\venv\\Lib\\site-packages\\sklearn\\preprocessing\\_data.py\u001b[39m in \u001b[36m?\u001b[39m\u001b[34m(self, X, y, sample_weight)\u001b[39m\n\u001b[32m    939\u001b[39m         self : object\n\u001b[32m    940\u001b[39m             Fitted scaler.\n\u001b[32m    941\u001b[39m         \"\"\"\n\u001b[32m    942\u001b[39m         first_call = \u001b[38;5;28;01mnot\u001b[39;00m hasattr(self, \u001b[33m\"n_samples_seen_\"\u001b[39m)\n\u001b[32m--> \u001b[39m\u001b[32m943\u001b[39m         X = validate_data(\n\u001b[32m    944\u001b[39m             self,\n\u001b[32m    945\u001b[39m             X,\n\u001b[32m    946\u001b[39m             accept_sparse=(\u001b[33m\"csr\"\u001b[39m, \u001b[33m\"csc\"\u001b[39m),\n",
      "\u001b[32mc:\\Users\\Admin\\insurance-price-predictor\\venv\\Lib\\site-packages\\sklearn\\utils\\validation.py\u001b[39m in \u001b[36m?\u001b[39m\u001b[34m(_estimator, X, y, reset, validate_separately, skip_check_array, **check_params)\u001b[39m\n\u001b[32m   2950\u001b[39m             out = y\n\u001b[32m   2951\u001b[39m         \u001b[38;5;28;01melse\u001b[39;00m:\n\u001b[32m   2952\u001b[39m             out = X, y\n\u001b[32m   2953\u001b[39m     \u001b[38;5;28;01melif\u001b[39;00m \u001b[38;5;28;01mnot\u001b[39;00m no_val_X \u001b[38;5;28;01mand\u001b[39;00m no_val_y:\n\u001b[32m-> \u001b[39m\u001b[32m2954\u001b[39m         out = check_array(X, input_name=\u001b[33m\"X\"\u001b[39m, **check_params)\n\u001b[32m   2955\u001b[39m     \u001b[38;5;28;01melif\u001b[39;00m no_val_X \u001b[38;5;28;01mand\u001b[39;00m \u001b[38;5;28;01mnot\u001b[39;00m no_val_y:\n\u001b[32m   2956\u001b[39m         out = _check_y(y, **check_params)\n\u001b[32m   2957\u001b[39m     \u001b[38;5;28;01melse\u001b[39;00m:\n",
      "\u001b[32mc:\\Users\\Admin\\insurance-price-predictor\\venv\\Lib\\site-packages\\sklearn\\utils\\validation.py\u001b[39m in \u001b[36m?\u001b[39m\u001b[34m(array, accept_sparse, accept_large_sparse, dtype, order, copy, force_writeable, force_all_finite, ensure_all_finite, ensure_non_negative, ensure_2d, allow_nd, ensure_min_samples, ensure_min_features, estimator, input_name)\u001b[39m\n\u001b[32m   1050\u001b[39m                         )\n\u001b[32m   1051\u001b[39m                     array = xp.astype(array, dtype, copy=\u001b[38;5;28;01mFalse\u001b[39;00m)\n\u001b[32m   1052\u001b[39m                 \u001b[38;5;28;01melse\u001b[39;00m:\n\u001b[32m   1053\u001b[39m                     array = _asarray_with_order(array, order=order, dtype=dtype, xp=xp)\n\u001b[32m-> \u001b[39m\u001b[32m1054\u001b[39m             \u001b[38;5;28;01mexcept\u001b[39;00m ComplexWarning \u001b[38;5;28;01mas\u001b[39;00m complex_warning:\n\u001b[32m   1055\u001b[39m                 raise ValueError(\n\u001b[32m   1056\u001b[39m                     \u001b[33m\"Complex data not supported\\n{}\\n\"\u001b[39m.format(array)\n\u001b[32m   1057\u001b[39m                 ) \u001b[38;5;28;01mfrom\u001b[39;00m complex_warning\n",
      "\u001b[32mc:\\Users\\Admin\\insurance-price-predictor\\venv\\Lib\\site-packages\\sklearn\\utils\\_array_api.py\u001b[39m in \u001b[36m?\u001b[39m\u001b[34m(array, dtype, order, copy, xp, device)\u001b[39m\n\u001b[32m    753\u001b[39m         \u001b[38;5;66;03m# Use NumPy API to support order\u001b[39;00m\n\u001b[32m    754\u001b[39m         \u001b[38;5;28;01mif\u001b[39;00m copy \u001b[38;5;28;01mis\u001b[39;00m \u001b[38;5;28;01mTrue\u001b[39;00m:\n\u001b[32m    755\u001b[39m             array = numpy.array(array, order=order, dtype=dtype)\n\u001b[32m    756\u001b[39m         \u001b[38;5;28;01melse\u001b[39;00m:\n\u001b[32m--> \u001b[39m\u001b[32m757\u001b[39m             array = numpy.asarray(array, order=order, dtype=dtype)\n\u001b[32m    758\u001b[39m \n\u001b[32m    759\u001b[39m         \u001b[38;5;66;03m# At this point array is a NumPy ndarray. We convert it to an array\u001b[39;00m\n\u001b[32m    760\u001b[39m         \u001b[38;5;66;03m# container that is consistent with the input's namespace.\u001b[39;00m\n",
      "\u001b[32mc:\\Users\\Admin\\insurance-price-predictor\\venv\\Lib\\site-packages\\pandas\\core\\generic.py\u001b[39m in \u001b[36m?\u001b[39m\u001b[34m(self, dtype, copy)\u001b[39m\n\u001b[32m   2164\u001b[39m             )\n\u001b[32m   2165\u001b[39m         values = self._values\n\u001b[32m   2166\u001b[39m         \u001b[38;5;28;01mif\u001b[39;00m copy \u001b[38;5;28;01mis\u001b[39;00m \u001b[38;5;28;01mNone\u001b[39;00m:\n\u001b[32m   2167\u001b[39m             \u001b[38;5;66;03m# Note: branch avoids `copy=None` for NumPy 1.x support\u001b[39;00m\n\u001b[32m-> \u001b[39m\u001b[32m2168\u001b[39m             arr = np.asarray(values, dtype=dtype)\n\u001b[32m   2169\u001b[39m         \u001b[38;5;28;01melse\u001b[39;00m:\n\u001b[32m   2170\u001b[39m             arr = np.array(values, dtype=dtype, copy=copy)\n\u001b[32m   2171\u001b[39m \n",
      "\u001b[31mValueError\u001b[39m: could not convert string to float: 'male'"
     ]
    }
   ],
   "source": [
    "from sklearn.model_selection import train_test_split\n",
    "from sklearn.preprocessing import StandardScaler\n",
    "X_train, X_test, y_train, y_test = train_test_split(X, y, test_size=0.2, random_state=42)\n",
    "scaler = StandardScaler()\n",
    "X_train_scaled = scaler.fit_transform(X_train)\n",
    "X_test_scaled = scaler.transform(X_test)"
   ]
  },
  {
   "cell_type": "code",
   "execution_count": 51,
   "id": "6d8dea2c",
   "metadata": {},
   "outputs": [],
   "source": [
    "from sklearn.linear_model import LinearRegression\n",
    "model = LinearRegression()\n",
    "\n",
    "model.fit(X_train_scaled, y_train)\n",
    "y_pred = model.predict(X_test_scaled)"
   ]
  },
  {
   "cell_type": "code",
   "execution_count": 52,
   "id": "00cc3d0b",
   "metadata": {},
   "outputs": [
    {
     "name": "stdout",
     "output_type": "stream",
     "text": [
      "Mean Squared Error: 20956065.61812869\n",
      "Root Mean Squared Error: 4577.779551062796\n",
      "R^2 Score: 0.8859571479859212\n"
     ]
    }
   ],
   "source": [
    "from sklearn.metrics import mean_squared_error, r2_score\n",
    "mse = mean_squared_error(y_test, y_pred)\n",
    "r2 = r2_score(y_test, y_pred)\n",
    "print(f'Mean Squared Error: {mse}')\n",
    "print(f'Root Mean Squared Error: {mse ** 0.5}')\n",
    "print(f'R^2 Score: {r2}')"
   ]
  },
  {
   "cell_type": "code",
   "execution_count": 53,
   "id": "3c1c860a",
   "metadata": {},
   "outputs": [],
   "source": [
    "y_log_train, y_log_test = np.log1p(y_train),np.log1p(y_test)\n"
   ]
  },
  {
   "cell_type": "code",
   "execution_count": 54,
   "id": "16df0d3d",
   "metadata": {},
   "outputs": [],
   "source": [
    "model = LinearRegression()\n",
    "model.fit(X_train_scaled, y_log_train)\n",
    "y_log_pred = model.predict(X_test_scaled)\n",
    "y_pred = np.expm1(y_log_pred)"
   ]
  },
  {
   "cell_type": "code",
   "execution_count": 57,
   "id": "f0769941",
   "metadata": {},
   "outputs": [
    {
     "name": "stdout",
     "output_type": "stream",
     "text": [
      "Mean Squared Error (log): 0.11977326994722566\n",
      "Root Mean Squared Error (log): 0.3460827501439875\n",
      "R^2 Score (log): 0.8709183860981311\n",
      "Mean Squared Error (exp): 34323779.909372956\n",
      "Root Mean Squared Error (exp): 5858.650007414076\n",
      "R^2 Score (exp): 0.8132100832237242\n"
     ]
    }
   ],
   "source": [
    "mse_exp = mean_squared_error(y_test,y_pred)\n",
    "mse_log = mean_squared_error(y_log_test, y_log_pred)\n",
    "r2_log = r2_score(y_log_test, y_log_pred) \n",
    "r2_exp = r2_score(y_test,y_pred)  \n",
    "print(f'Mean Squared Error (log): {mse_log}')\n",
    "print(f'Root Mean Squared Error (log): {mse_log ** 0.5}')\n",
    "print(f'R^2 Score (log): {r2_log}')\n",
    "print(f'Mean Squared Error (exp): {mse_exp}')\n",
    "print(f'Root Mean Squared Error (exp): {mse_exp ** 0.5}')\n",
    "print(f'R^2 Score (exp): {r2_exp}')"
   ]
  },
  {
   "cell_type": "code",
   "execution_count": 58,
   "id": "9df274d6",
   "metadata": {},
   "outputs": [
    {
     "name": "stdout",
     "output_type": "stream",
     "text": [
      "RF Mean Squared Error (log): 0.14757739222543687\n",
      "RF Root Mean Squared Error (log): 0.3841580302758708\n",
      "RF R^2 Score (log): 0.8409534283210094\n",
      "RF Mean Squared Error (exp): 19574230.238341518\n",
      "RF Root Mean Squared Error (exp): 4424.277369056049\n",
      "RF R^2 Score (exp): 0.893477092358903\n"
     ]
    }
   ],
   "source": [
    "from sklearn.ensemble import RandomForestRegressor, GradientBoostingRegressor\n",
    "rf_model = RandomForestRegressor(n_estimators=100, random_state=42)\n",
    "rf_model.fit(X_train_scaled, y_log_train)\n",
    "y_rf_log_pred = rf_model.predict(X_test_scaled)\n",
    "y_rf_pred = np.expm1(y_rf_log_pred)\n",
    "mse_exp = mean_squared_error(y_test,y_rf_pred)\n",
    "mse_log = mean_squared_error(y_log_test, y_rf_log_pred)\n",
    "r2_log = r2_score(y_log_test, y_rf_log_pred) \n",
    "r2_exp = r2_score(y_test,y_rf_pred)  \n",
    "print(f'RF Mean Squared Error (log): {mse_log}')\n",
    "print(f'RF Root Mean Squared Error (log): {mse_log ** 0.5}')\n",
    "print(f'RF R^2 Score (log): {r2_log}')\n",
    "print(f'RF Mean Squared Error (exp): {mse_exp}')\n",
    "print(f'RF Root Mean Squared Error (exp): {mse_exp ** 0.5}')\n",
    "print(f'RF R^2 Score (exp): {r2_exp}')"
   ]
  },
  {
   "cell_type": "code",
   "execution_count": 59,
   "id": "4f7d23ae",
   "metadata": {},
   "outputs": [
    {
     "name": "stdout",
     "output_type": "stream",
     "text": [
      "Random Forest Mean Squared Error (log): 22497083.18693296\n",
      "Random Forest Root Mean Squared Error (log): 4743.109021194111\n",
      "Random Forest R^2 Score (log): 0.8775709345738859\n"
     ]
    }
   ],
   "source": [
    "rf_model = RandomForestRegressor(n_estimators=100, random_state=42)\n",
    "rf_model.fit(X_train_scaled, y_train)\n",
    "y_rf_pred = rf_model.predict(X_test_scaled)\n",
    "mse_rf = mean_squared_error(y_test, y_rf_pred)\n",
    "r2_rf = r2_score(y_test, y_rf_pred)\n",
    "print(f'Random Forest Mean Squared Error (log): {mse_rf}')\n",
    "print(f'Random Forest Root Mean Squared Error (log): {mse_rf** 0.5}')\n",
    "print(f'Random Forest R^2 Score (log): {r2_rf}')"
   ]
  },
  {
   "cell_type": "code",
   "execution_count": 60,
   "id": "dfd3cc4d",
   "metadata": {},
   "outputs": [
    {
     "name": "stdout",
     "output_type": "stream",
     "text": [
      "GB Mean Squared Error (log): 0.1134301358216396\n",
      "GB Root Mean Squared Error (log): 0.33679390704352064\n",
      "GB R^2 Score (log): 0.8777544855925127\n",
      "GB Mean Squared Error (exp): 20172876.32501114\n",
      "GB Root Mean Squared Error (exp): 4491.422527998356\n",
      "GB R^2 Score (exp): 0.8902192619858291\n"
     ]
    }
   ],
   "source": [
    "gb_model = GradientBoostingRegressor(n_estimators=100, random_state=42)\n",
    "gb_model.fit(X_train_scaled, y_log_train)\n",
    "y_gb_log_pred = gb_model.predict(X_test_scaled)\n",
    "y_gb_pred = np.expm1(y_gb_log_pred)\n",
    "mse_exp = mean_squared_error(y_test,y_gb_pred)\n",
    "mse_log = mean_squared_error(y_log_test, y_gb_log_pred)\n",
    "r2_log = r2_score(y_log_test, y_gb_log_pred) \n",
    "r2_exp = r2_score(y_test,y_gb_pred)  \n",
    "print(f'GB Mean Squared Error (log): {mse_log}')\n",
    "print(f'GB Root Mean Squared Error (log): {mse_log ** 0.5}')\n",
    "print(f'GB R^2 Score (log): {r2_log}')\n",
    "print(f'GB Mean Squared Error (exp): {mse_exp}')\n",
    "print(f'GB Root Mean Squared Error (exp): {mse_exp ** 0.5}')\n",
    "print(f'GB R^2 Score (exp): {r2_exp}')"
   ]
  },
  {
   "cell_type": "code",
   "execution_count": 61,
   "id": "d6f4fad8",
   "metadata": {},
   "outputs": [
    {
     "name": "stdout",
     "output_type": "stream",
     "text": [
      "Gradient Boosting Mean Squared Error: 17884991.220697723\n",
      "Gradient Boosting Root Mean Squared Error: 4229.065052786221\n",
      "Gradient Boosting R^2 Score: 0.9026699264917999\n"
     ]
    }
   ],
   "source": [
    "gb_model = GradientBoostingRegressor(n_estimators=100, random_state=42)\n",
    "gb_model.fit(X_train_scaled, y_train)\n",
    "y_gb_pred = gb_model.predict(X_test_scaled)\n",
    "mse_gb = mean_squared_error(y_test, y_gb_pred)  \n",
    "r2_gb = r2_score(y_test, y_gb_pred)\n",
    "print(f'Gradient Boosting Mean Squared Error: {mse_gb}')\n",
    "print(f'Gradient Boosting Root Mean Squared Error: {mse_gb ** 0.5}')\n",
    "print(f'Gradient Boosting R^2 Score: {r2_gb}')\n"
   ]
  },
  {
   "cell_type": "markdown",
   "id": "fd8999da",
   "metadata": {},
   "source": [
    "Видим, что наилучший результат показал градиентный бустинг на таргете без логарифмирования.  \n",
    "Теперь попробуем поиграться с гиперпараметрами как градиентного бустинга, так и случайного леса с помощью поиска по сетке."
   ]
  },
  {
   "cell_type": "code",
   "execution_count": 62,
   "id": "8eecfb5a",
   "metadata": {},
   "outputs": [
    {
     "name": "stdout",
     "output_type": "stream",
     "text": [
      "Fitting 3 folds for each of 81 candidates, totalling 243 fits\n",
      "Best parameters: {'max_depth': 5, 'min_samples_leaf': 4, 'min_samples_split': 10, 'n_estimators': 50}\n",
      "Best score: -22374138.73615871\n"
     ]
    }
   ],
   "source": [
    "from sklearn.model_selection import GridSearchCV\n",
    "gb_model = GradientBoostingRegressor(random_state=42)\n",
    "param_grid = {\n",
    "    'n_estimators': [50, 100, 200],\n",
    "    'max_depth': [None, 5, 10],\n",
    "    'min_samples_split': [2, 5, 10],\n",
    "    'min_samples_leaf': [1, 2, 4]\n",
    "}\n",
    "grid_search = GridSearchCV(estimator=gb_model, param_grid=param_grid, cv=3, scoring='neg_mean_squared_error', verbose=2, n_jobs=-1)\n",
    "grid_search.fit(X_train_scaled, y_train)\n",
    "best_params = grid_search.best_params_\n",
    "best_score = grid_search.best_score_\n",
    "print(f'Best parameters: {best_params}')\n",
    "print(f'Best score: {best_score}')\n"
   ]
  },
  {
   "cell_type": "code",
   "execution_count": 64,
   "id": "8ce1911a",
   "metadata": {},
   "outputs": [
    {
     "name": "stdout",
     "output_type": "stream",
     "text": [
      "Best Gradient Boosting Mean Squared Error: 18670620.361418225\n",
      "Best Gradient Boosting Root Mean Squared Error: 4320.951325971889\n",
      "Best Gradient Boosting R^2 Score: 0.8983945348478823\n"
     ]
    }
   ],
   "source": [
    "model = GradientBoostingRegressor(**best_params, random_state=42)\n",
    "model.fit(X_train_scaled, y_train)\n",
    "y_pred = model.predict(X_test_scaled)\n",
    "mse_best = mean_squared_error(y_test, y_pred)\n",
    "r2_best = r2_score(y_test, y_pred)  \n",
    "print(f'Best Gradient Boosting Mean Squared Error: {mse_best}')\n",
    "print(f'Best Gradient Boosting Root Mean Squared Error: {mse_best ** 0.5}')\n",
    "print(f'Best Gradient Boosting R^2 Score: {r2_best}')"
   ]
  },
  {
   "cell_type": "code",
   "execution_count": 65,
   "id": "9ff3d0b2",
   "metadata": {},
   "outputs": [
    {
     "name": "stdout",
     "output_type": "stream",
     "text": [
      "Fitting 3 folds for each of 81 candidates, totalling 243 fits\n",
      "Best parameters: {'max_depth': 5, 'min_samples_leaf': 4, 'min_samples_split': 2, 'n_estimators': 50}\n",
      "Best score: -0.1646593741075321\n"
     ]
    }
   ],
   "source": [
    "gb_model = GradientBoostingRegressor(random_state=42)\n",
    "param_grid = {\n",
    "    'n_estimators': [50, 100, 200], \n",
    "    'max_depth': [None, 5, 10],\n",
    "    'min_samples_split': [2, 5, 10],\n",
    "    'min_samples_leaf': [1, 2, 4]\n",
    "}\n",
    "grid_search = GridSearchCV(estimator=gb_model, param_grid=param_grid, cv=3, scoring='neg_mean_squared_error', verbose=2, n_jobs=-1)\n",
    "grid_search.fit(X_train_scaled, y_log_train)\n",
    "best_params = grid_search.best_params_\n",
    "best_score = grid_search.best_score_\n",
    "print(f'Best parameters: {best_params}')\n",
    "print(f'Best score: {best_score}')"
   ]
  },
  {
   "cell_type": "code",
   "execution_count": 66,
   "id": "cf76032f",
   "metadata": {},
   "outputs": [
    {
     "name": "stdout",
     "output_type": "stream",
     "text": [
      "GB Mean Squared Error (log): 0.11699175303445225\n",
      "GB Root Mean Squared Error (log): 0.34204057220518774\n",
      "GB R^2 Score (log): 0.8739160724129018\n",
      "GB Mean Squared Error (exp): 18915820.694784634\n",
      "GB Root Mean Squared Error (exp): 4349.232196007088\n",
      "GB R^2 Score (exp): 0.8970601553015749\n"
     ]
    }
   ],
   "source": [
    "model = GradientBoostingRegressor(**best_params, random_state=42)\n",
    "model.fit(X_train_scaled, y_log_train)\n",
    "y_log_pred = model.predict(X_test_scaled)\n",
    "y_pred = np.expm1(y_log_pred)\n",
    "mse_exp = mean_squared_error(y_test,y_pred)\n",
    "mse_log = mean_squared_error(y_log_test, y_log_pred)\n",
    "r2_log = r2_score(y_log_test, y_log_pred) \n",
    "r2_exp = r2_score(y_test,y_pred)  \n",
    "print(f'GB Mean Squared Error (log): {mse_log}')\n",
    "print(f'GB Root Mean Squared Error (log): {mse_log ** 0.5}')\n",
    "print(f'GB R^2 Score (log): {r2_log}')\n",
    "print(f'GB Mean Squared Error (exp): {mse_exp}')\n",
    "print(f'GB Root Mean Squared Error (exp): {mse_exp ** 0.5}')\n",
    "print(f'GB R^2 Score (exp): {r2_exp}')"
   ]
  },
  {
   "cell_type": "code",
   "execution_count": 72,
   "id": "8fcdcad5",
   "metadata": {},
   "outputs": [
    {
     "name": "stdout",
     "output_type": "stream",
     "text": [
      "Fitting 3 folds for each of 81 candidates, totalling 243 fits\n",
      "Best parameters: {'max_depth': 5, 'min_samples_leaf': 4, 'min_samples_split': 10, 'n_estimators': 100}\n",
      "Best score: -0.1538278306673878\n"
     ]
    }
   ],
   "source": [
    "rf_model = RandomForestRegressor(random_state=42)\n",
    "param_grid = {\n",
    "    'n_estimators': [50, 100, 200], \n",
    "    'max_depth': [None, 5, 10],\n",
    "    'min_samples_split': [2, 5, 10],\n",
    "    'min_samples_leaf': [1, 2, 4]\n",
    "}\n",
    "grid_search = GridSearchCV(estimator=rf_model, param_grid=param_grid, cv=3, scoring='neg_mean_squared_error', verbose=2, n_jobs=-1)\n",
    "grid_search.fit(X_train_scaled, y_log_train)\n",
    "best_params = grid_search.best_params_\n",
    "best_score = grid_search.best_score_\n",
    "print(f'Best parameters: {best_params}')\n",
    "print(f'Best score: {best_score}')"
   ]
  },
  {
   "cell_type": "code",
   "execution_count": 68,
   "id": "22b2c44d",
   "metadata": {},
   "outputs": [
    {
     "name": "stdout",
     "output_type": "stream",
     "text": [
      "RF Mean Squared Error (log): 0.11230698613527772\n",
      "RF Root Mean Squared Error (log): 0.33512234502533206\n",
      "RF R^2 Score (log): 0.8789649223972593\n",
      "RF Mean Squared Error (exp): 17838647.16757761\n",
      "RF Root Mean Squared Error (exp): 4223.5822671729275\n",
      "RF R^2 Score (exp): 0.9029221307026485\n"
     ]
    }
   ],
   "source": [
    "model = RandomForestRegressor(**best_params, random_state=42)\n",
    "model.fit(X_train_scaled, y_log_train)\n",
    "y_log_pred = model.predict(X_test_scaled)\n",
    "y_pred = np.expm1(y_log_pred)\n",
    "mse_exp = mean_squared_error(y_test,y_pred)\n",
    "mse_log = mean_squared_error(y_log_test, y_log_pred)\n",
    "r2_log = r2_score(y_log_test, y_log_pred) \n",
    "r2_exp = r2_score(y_test,y_pred)  \n",
    "print(f'RF Mean Squared Error (log): {mse_log}')\n",
    "print(f'RF Root Mean Squared Error (log): {mse_log ** 0.5}')\n",
    "print(f'RF R^2 Score (log): {r2_log}')\n",
    "print(f'RF Mean Squared Error (exp): {mse_exp}')\n",
    "print(f'RF Root Mean Squared Error (exp): {mse_exp ** 0.5}')\n",
    "print(f'RF R^2 Score (exp): {r2_exp}')"
   ]
  },
  {
   "cell_type": "code",
   "execution_count": 69,
   "id": "cc13b721",
   "metadata": {},
   "outputs": [
    {
     "name": "stdout",
     "output_type": "stream",
     "text": [
      "Fitting 3 folds for each of 81 candidates, totalling 243 fits\n",
      "Best parameters: {'max_depth': 5, 'min_samples_leaf': 4, 'min_samples_split': 2, 'n_estimators': 100}\n",
      "Best score: -21243606.756487027\n"
     ]
    }
   ],
   "source": [
    "rf_model = RandomForestRegressor(random_state=42)\n",
    "param_grid = {\n",
    "    'n_estimators': [50, 100, 200], \n",
    "    'max_depth': [None, 5, 10],\n",
    "    'min_samples_split': [2, 5, 10],\n",
    "    'min_samples_leaf': [1, 2, 4]\n",
    "}\n",
    "grid_search = GridSearchCV(estimator=rf_model, param_grid=param_grid, cv=3, scoring='neg_mean_squared_error', verbose=2, n_jobs=-1)\n",
    "grid_search.fit(X_train_scaled, y_train)\n",
    "best_params = grid_search.best_params_\n",
    "best_score = grid_search.best_score_\n",
    "print(f'Best parameters: {best_params}')\n",
    "print(f'Best score: {best_score}')"
   ]
  },
  {
   "cell_type": "code",
   "execution_count": 70,
   "id": "7d1c6a5e",
   "metadata": {},
   "outputs": [
    {
     "name": "stdout",
     "output_type": "stream",
     "text": [
      "Best Random Forest Mean Squared Error: 18181623.41082447\n",
      "Best Random Forest Root Mean Squared Error: 4263.991488127582\n",
      "Best Random Forest R^2 Score: 0.901055654921092\n"
     ]
    }
   ],
   "source": [
    "model = RandomForestRegressor(**best_params, random_state=42)\n",
    "model.fit(X_train_scaled, y_train)\n",
    "y_pred = model.predict(X_test_scaled)\n",
    "mse_best_log = mean_squared_error(y_test, y_pred)\n",
    "r2_best_log = r2_score(y_test, y_pred)\n",
    "print(f'Best Random Forest Mean Squared Error: {mse_best_log}')\n",
    "print(f'Best Random Forest Root Mean Squared Error: {mse_best_log ** 0.5}')\n",
    "print(f'Best Random Forest R^2 Score: {r2_best_log}')"
   ]
  },
  {
   "cell_type": "markdown",
   "id": "bf8d6489",
   "metadata": {},
   "source": [
    "После подбора гиперпараметров, лучший результат показал RandomForest с логарифмированием. Сохраним эту модель"
   ]
  },
  {
   "cell_type": "code",
   "execution_count": 73,
   "id": "e43de084",
   "metadata": {},
   "outputs": [
    {
     "name": "stdout",
     "output_type": "stream",
     "text": [
      "Fitting 3 folds for each of 81 candidates, totalling 243 fits\n",
      "Best parameters: {'max_depth': 5, 'min_samples_leaf': 4, 'min_samples_split': 10, 'n_estimators': 100}\n",
      "Best score: -0.1538278306673878\n"
     ]
    }
   ],
   "source": [
    "rf_model = RandomForestRegressor(random_state=42)\n",
    "param_grid = {\n",
    "    'n_estimators': [50, 100, 200], \n",
    "    'max_depth': [None, 5, 10],\n",
    "    'min_samples_split': [2, 5, 10],\n",
    "    'min_samples_leaf': [1, 2, 4]\n",
    "}\n",
    "grid_search = GridSearchCV(estimator=rf_model, param_grid=param_grid, cv=3, scoring='neg_mean_squared_error', verbose=2, n_jobs=-1)\n",
    "grid_search.fit(X_train_scaled, y_log_train)\n",
    "best_params = grid_search.best_params_\n",
    "best_score = grid_search.best_score_\n",
    "print(f'Best parameters: {best_params}')\n",
    "print(f'Best score: {best_score}')"
   ]
  },
  {
   "cell_type": "code",
   "execution_count": null,
   "id": "70450fa3",
   "metadata": {},
   "outputs": [
    {
     "data": {
      "text/html": [
       "<div>\n",
       "<style scoped>\n",
       "    .dataframe tbody tr th:only-of-type {\n",
       "        vertical-align: middle;\n",
       "    }\n",
       "\n",
       "    .dataframe tbody tr th {\n",
       "        vertical-align: top;\n",
       "    }\n",
       "\n",
       "    .dataframe thead th {\n",
       "        text-align: right;\n",
       "    }\n",
       "</style>\n",
       "<table border=\"1\" class=\"dataframe\">\n",
       "  <thead>\n",
       "    <tr style=\"text-align: right;\">\n",
       "      <th></th>\n",
       "      <th>age</th>\n",
       "      <th>bmi</th>\n",
       "      <th>children</th>\n",
       "      <th>sex_male</th>\n",
       "      <th>smoker_yes</th>\n",
       "      <th>region_northwest</th>\n",
       "      <th>region_southeast</th>\n",
       "      <th>region_southwest</th>\n",
       "      <th>age_smoker</th>\n",
       "      <th>bmi_smoker</th>\n",
       "    </tr>\n",
       "  </thead>\n",
       "  <tbody>\n",
       "    <tr>\n",
       "      <th>1113</th>\n",
       "      <td>23</td>\n",
       "      <td>24.510</td>\n",
       "      <td>0</td>\n",
       "      <td>True</td>\n",
       "      <td>False</td>\n",
       "      <td>False</td>\n",
       "      <td>False</td>\n",
       "      <td>False</td>\n",
       "      <td>0</td>\n",
       "      <td>0.00</td>\n",
       "    </tr>\n",
       "    <tr>\n",
       "      <th>967</th>\n",
       "      <td>21</td>\n",
       "      <td>25.745</td>\n",
       "      <td>2</td>\n",
       "      <td>True</td>\n",
       "      <td>False</td>\n",
       "      <td>False</td>\n",
       "      <td>False</td>\n",
       "      <td>False</td>\n",
       "      <td>0</td>\n",
       "      <td>0.00</td>\n",
       "    </tr>\n",
       "    <tr>\n",
       "      <th>598</th>\n",
       "      <td>52</td>\n",
       "      <td>37.525</td>\n",
       "      <td>2</td>\n",
       "      <td>False</td>\n",
       "      <td>False</td>\n",
       "      <td>True</td>\n",
       "      <td>False</td>\n",
       "      <td>False</td>\n",
       "      <td>0</td>\n",
       "      <td>0.00</td>\n",
       "    </tr>\n",
       "    <tr>\n",
       "      <th>170</th>\n",
       "      <td>63</td>\n",
       "      <td>41.470</td>\n",
       "      <td>0</td>\n",
       "      <td>True</td>\n",
       "      <td>False</td>\n",
       "      <td>False</td>\n",
       "      <td>True</td>\n",
       "      <td>False</td>\n",
       "      <td>0</td>\n",
       "      <td>0.00</td>\n",
       "    </tr>\n",
       "    <tr>\n",
       "      <th>275</th>\n",
       "      <td>47</td>\n",
       "      <td>26.600</td>\n",
       "      <td>2</td>\n",
       "      <td>False</td>\n",
       "      <td>False</td>\n",
       "      <td>False</td>\n",
       "      <td>False</td>\n",
       "      <td>False</td>\n",
       "      <td>0</td>\n",
       "      <td>0.00</td>\n",
       "    </tr>\n",
       "    <tr>\n",
       "      <th>...</th>\n",
       "      <td>...</td>\n",
       "      <td>...</td>\n",
       "      <td>...</td>\n",
       "      <td>...</td>\n",
       "      <td>...</td>\n",
       "      <td>...</td>\n",
       "      <td>...</td>\n",
       "      <td>...</td>\n",
       "      <td>...</td>\n",
       "      <td>...</td>\n",
       "    </tr>\n",
       "    <tr>\n",
       "      <th>1095</th>\n",
       "      <td>51</td>\n",
       "      <td>34.960</td>\n",
       "      <td>2</td>\n",
       "      <td>False</td>\n",
       "      <td>True</td>\n",
       "      <td>False</td>\n",
       "      <td>False</td>\n",
       "      <td>False</td>\n",
       "      <td>51</td>\n",
       "      <td>34.96</td>\n",
       "    </tr>\n",
       "    <tr>\n",
       "      <th>1130</th>\n",
       "      <td>27</td>\n",
       "      <td>45.900</td>\n",
       "      <td>2</td>\n",
       "      <td>True</td>\n",
       "      <td>False</td>\n",
       "      <td>False</td>\n",
       "      <td>False</td>\n",
       "      <td>True</td>\n",
       "      <td>0</td>\n",
       "      <td>0.00</td>\n",
       "    </tr>\n",
       "    <tr>\n",
       "      <th>1294</th>\n",
       "      <td>20</td>\n",
       "      <td>22.000</td>\n",
       "      <td>1</td>\n",
       "      <td>True</td>\n",
       "      <td>False</td>\n",
       "      <td>False</td>\n",
       "      <td>False</td>\n",
       "      <td>True</td>\n",
       "      <td>0</td>\n",
       "      <td>0.00</td>\n",
       "    </tr>\n",
       "    <tr>\n",
       "      <th>860</th>\n",
       "      <td>38</td>\n",
       "      <td>28.000</td>\n",
       "      <td>3</td>\n",
       "      <td>False</td>\n",
       "      <td>False</td>\n",
       "      <td>False</td>\n",
       "      <td>False</td>\n",
       "      <td>True</td>\n",
       "      <td>0</td>\n",
       "      <td>0.00</td>\n",
       "    </tr>\n",
       "    <tr>\n",
       "      <th>1126</th>\n",
       "      <td>35</td>\n",
       "      <td>35.860</td>\n",
       "      <td>2</td>\n",
       "      <td>False</td>\n",
       "      <td>False</td>\n",
       "      <td>False</td>\n",
       "      <td>True</td>\n",
       "      <td>False</td>\n",
       "      <td>0</td>\n",
       "      <td>0.00</td>\n",
       "    </tr>\n",
       "  </tbody>\n",
       "</table>\n",
       "<p>1069 rows × 10 columns</p>\n",
       "</div>"
      ],
      "text/plain": [
       "      age     bmi  children  sex_male  smoker_yes  region_northwest  \\\n",
       "1113   23  24.510         0      True       False             False   \n",
       "967    21  25.745         2      True       False             False   \n",
       "598    52  37.525         2     False       False              True   \n",
       "170    63  41.470         0      True       False             False   \n",
       "275    47  26.600         2     False       False             False   \n",
       "...   ...     ...       ...       ...         ...               ...   \n",
       "1095   51  34.960         2     False        True             False   \n",
       "1130   27  45.900         2      True       False             False   \n",
       "1294   20  22.000         1      True       False             False   \n",
       "860    38  28.000         3     False       False             False   \n",
       "1126   35  35.860         2     False       False             False   \n",
       "\n",
       "      region_southeast  region_southwest  age_smoker  bmi_smoker  \n",
       "1113             False             False           0        0.00  \n",
       "967              False             False           0        0.00  \n",
       "598              False             False           0        0.00  \n",
       "170               True             False           0        0.00  \n",
       "275              False             False           0        0.00  \n",
       "...                ...               ...         ...         ...  \n",
       "1095             False             False          51       34.96  \n",
       "1130             False              True           0        0.00  \n",
       "1294             False              True           0        0.00  \n",
       "860              False              True           0        0.00  \n",
       "1126              True             False           0        0.00  \n",
       "\n",
       "[1069 rows x 10 columns]"
      ]
     },
     "execution_count": 76,
     "metadata": {},
     "output_type": "execute_result"
    }
   ],
   "source": []
  },
  {
   "cell_type": "code",
   "execution_count": 93,
   "id": "196f8fb3",
   "metadata": {},
   "outputs": [
    {
     "name": "stdout",
     "output_type": "stream",
     "text": [
      "RMSE пайплайна: 4223.58\n",
      "R^2 пайплайна: 0.9029\n",
      "\n",
      "Финальный пайплайн сохранен в 'insurance_pipeline_final.pkl'\n"
     ]
    }
   ],
   "source": [
    "from sklearn.base import BaseEstimator, TransformerMixin\n",
    "from sklearn.pipeline import Pipeline\n",
    "import joblib\n",
    "\n",
    "y = df['charges']\n",
    "X = df.drop(columns=['charges', 'log_charges'])\n",
    "X_train, X_test, y_train, y_test = train_test_split(X, y, test_size=0.2, random_state=42)\n",
    "\n",
    "class FeatureGenerator(BaseEstimator, TransformerMixin):\n",
    "    def __init__(self):\n",
    "        # Здесь мы будем хранить \"эталонные\" категории\n",
    "        self.categories_ = {}\n",
    "\n",
    "    def fit(self, X, y=None):\n",
    "        # На этапе fit мы \"запоминаем\" все возможные категории для каждой колонки\n",
    "        for col in ['sex', 'smoker', 'region']:\n",
    "            self.categories_[col] = X[col].astype('category').cat.categories\n",
    "        return self\n",
    "\n",
    "    def transform(self, X, y=None):\n",
    "        df = X.copy()\n",
    "        \n",
    "        # Применяем тип category с \"запомненными\" категориями\n",
    "        for col, cats in self.categories_.items():\n",
    "            df[col] = pd.Categorical(df[col], categories=cats)\n",
    "            \n",
    "        # Теперь get_dummies всегда будет создавать одинаковый набор колонок\n",
    "        df = pd.get_dummies(df, columns=['sex', 'smoker', 'region'], drop_first=True, dtype=int)\n",
    "        \n",
    "        # Новые признаки\n",
    "        # Добавляем .get('smoker_yes', 0), чтобы код не падал, если такой колонки нет\n",
    "        # (хотя теперь она должна быть всегда)\n",
    "        df['age_smoker'] = df['age'] * df.get('smoker_yes', 0)\n",
    "        df['bmi_smoker'] = df['bmi'] * df.get('smoker_yes', 0)\n",
    "        \n",
    "        return df\n",
    "\n",
    "# Теперь мы можем собрать наш финальный, элегантный пайплайн\n",
    "\n",
    "# Шаги пайплайна\n",
    "pipeline_steps = [\n",
    "    ('feature_generation', FeatureGenerator()), # Шаг 1: OHE и создание признаков\n",
    "    ('scaler', StandardScaler()),              # Шаг 2: Масштабирование\n",
    "    ('model', RandomForestRegressor(**best_params,random_state=42)) # Шаг 3: Модель\n",
    "]\n",
    "\n",
    "full_pipeline = Pipeline(pipeline_steps)\n",
    "\n",
    "# --------------------------------------------------\n",
    "# 3. ОБУЧЕНИЕ И ОЦЕНКА\n",
    "# --------------------------------------------------\n",
    "\n",
    "y_log_train = np.log1p(y_train)\n",
    "y_log_test = np.log1p(y_test)\n",
    "\n",
    "# Обучаем весь пайплайн\n",
    "full_pipeline.fit(X_train, y_log_train)\n",
    "\n",
    "# Делаем предсказания\n",
    "y_log_pred = full_pipeline.predict(X_test)\n",
    "y_pred = np.expm1(y_log_pred)\n",
    "\n",
    "# Оцениваем\n",
    "mse = mean_squared_error(y_test, y_pred)\n",
    "r2 = r2_score(y_test, y_pred)\n",
    "\n",
    "print(f\"RMSE пайплайна: {mse**0.5:.2f}\")\n",
    "print(f\"R^2 пайплайна: {r2:.4f}\")\n",
    "\n",
    "\n",
    "# --------------------------------------------------\n",
    "# 4. СОХРАНЕНИЕ\n",
    "# --------------------------------------------------\n",
    "joblib.dump(full_pipeline, \"pipeline.pkl\")\n",
    "print(\"\\nФинальный пайплайн сохранен в 'insurance_pipeline_final.pkl'\")"
   ]
  },
  {
   "cell_type": "code",
   "execution_count": 94,
   "id": "0bad9d04",
   "metadata": {},
   "outputs": [
    {
     "name": "stdout",
     "output_type": "stream",
     "text": [
      "\n",
      "Загруженный пайплайн:\n",
      "Pipeline(steps=[('feature_generation', FeatureGenerator()),\n",
      "                ('scaler', StandardScaler()),\n",
      "                ('model',\n",
      "                 RandomForestRegressor(max_depth=5, min_samples_leaf=4,\n",
      "                                       min_samples_split=10,\n",
      "                                       random_state=42))])\n"
     ]
    }
   ],
   "source": [
    "pipeline = joblib.load(\"pipeline.pkl\")\n",
    "print(\"\\nЗагруженный пайплайн:\")\n",
    "print(pipeline)"
   ]
  },
  {
   "cell_type": "code",
   "execution_count": 95,
   "id": "3e73ad7f",
   "metadata": {},
   "outputs": [
    {
     "name": "stdout",
     "output_type": "stream",
     "text": [
      "\n",
      "Предсказанные расходы для нового клиента: 3476.14 долларов США\n"
     ]
    }
   ],
   "source": [
    "data = pd.DataFrame({\n",
    "    'age': [25],\n",
    "    'sex':['male'],\n",
    "    'bmi': [22.5],\n",
    "    'children': [0],\n",
    "    'smoker': ['no'],\n",
    "    'region': ['southwest']\n",
    "})\n",
    "predicted_charges = pipeline.predict(data)\n",
    "\n",
    "print(f\"\\nПредсказанные расходы для нового клиента: {np.expm1(predicted_charges[0]):.2f} долларов США\")"
   ]
  },
  {
   "cell_type": "code",
   "execution_count": null,
   "id": "9c7125d9",
   "metadata": {},
   "outputs": [],
   "source": []
  }
 ],
 "metadata": {
  "kernelspec": {
   "display_name": "venv",
   "language": "python",
   "name": "python3"
  },
  "language_info": {
   "codemirror_mode": {
    "name": "ipython",
    "version": 3
   },
   "file_extension": ".py",
   "mimetype": "text/x-python",
   "name": "python",
   "nbconvert_exporter": "python",
   "pygments_lexer": "ipython3",
   "version": "3.13.3"
  }
 },
 "nbformat": 4,
 "nbformat_minor": 5
}
